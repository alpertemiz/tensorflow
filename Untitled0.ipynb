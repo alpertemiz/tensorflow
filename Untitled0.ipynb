{
  "nbformat": 4,
  "nbformat_minor": 0,
  "metadata": {
    "colab": {
      "name": "Untitled0.ipynb",
      "provenance": [],
      "collapsed_sections": []
    },
    "kernelspec": {
      "name": "python3",
      "display_name": "Python 3"
    }
  },
  "cells": [
    {
      "cell_type": "code",
      "metadata": {
        "colab_type": "code",
        "id": "X9uIpOS2zx7k",
        "colab": {
          "base_uri": "https://localhost:8080/",
          "height": 449
        },
        "outputId": "367ee1cb-4b45-4fa9-ef46-cb729822525a"
      },
      "source": [
        "from __future__ import absolute_import, division, print_function, unicode_literals\n",
        "try:\n",
        "  # Use the %tensorflow_version magic if in colab.\n",
        "  %tensorflow_version 2.x\n",
        "except Exception:\n",
        "  pass\n",
        "\n",
        "import tensorflow as tf\n",
        "import numpy as np\n",
        "import logging\n",
        "logger = tf.get_logger()\n",
        "logger.setLevel(logging.ERROR)\n",
        "\n",
        "centimeters    = np.array([3, 7,  21,  37, 45, 167,  522],  dtype=float)\n",
        "inches = np.array([1.1811\t,  2.7559, 8.2677, 14.5669\t, 17.7165, 65.7480, 205.5118],  dtype=float)\n",
        "\n",
        "for i,c in enumerate(centimeters):\n",
        "  print(\"{} to Centimeters = {} to inches\".format(c, inches[i]))\n",
        "\n",
        "  l0 = tf.keras.layers.Dense(units=1, input_shape=[1])\n",
        "  model = tf.keras.Sequential([l0])\n",
        "  model = tf.keras.Sequential([\n",
        "  tf.keras.layers.Dense(units=1, input_shape=[1])\n",
        "])\n",
        "  model.compile(loss='mean_squared_error',\n",
        "              optimizer=tf.keras.optimizers.Adam(0.1))\n",
        "  history = model.fit(centimeters, inches, epochs=500, verbose=False)\n",
        "print(\"Finished training the model\")\n",
        "import matplotlib.pyplot as plt\n",
        "plt.xlabel('Epoch Number')\n",
        "plt.ylabel(\"Loss Magnitude\")\n",
        "plt.plot(history.history['loss'])\n",
        "print(model.predict([100.0]))\n",
        "print(\"These are the layer variables: {}\".format(l0.get_weights()))"
      ],
      "execution_count": 5,
      "outputs": [
        {
          "output_type": "stream",
          "text": [
            "3.0 to Centimeters = 1.1811 to inches\n",
            "7.0 to Centimeters = 2.7559 to inches\n",
            "21.0 to Centimeters = 8.2677 to inches\n",
            "37.0 to Centimeters = 14.5669 to inches\n",
            "45.0 to Centimeters = 17.7165 to inches\n",
            "167.0 to Centimeters = 65.748 to inches\n",
            "522.0 to Centimeters = 205.5118 to inches\n",
            "Finished training the model\n",
            "[[39.37066]]\n",
            "These are the layer variables: [array([[-0.5105711]], dtype=float32), array([0.], dtype=float32)]\n"
          ],
          "name": "stdout"
        },
        {
          "output_type": "display_data",
          "data": {
            "image/png": "[encoded data removed]",
            "text/plain": [
              "<Figure size 432x288 with 1 Axes>"
            ]
          },
          "metadata": {
            "tags": []
          }
        }
      ]
    }
  ]
}